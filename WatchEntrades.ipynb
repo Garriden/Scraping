{
 "cells": [
  {
   "cell_type": "markdown",
   "metadata": {},
   "source": [
    "# All matches from a season"
   ]
  },
  {
   "cell_type": "code",
   "execution_count": null,
   "metadata": {},
   "outputs": [],
   "source": [
    "import bs4 as bs\n",
    "import urllib\n",
    "import urllib.request\n",
    "import re\n",
    "import pandas as pd\n",
    "import numpy as np\n",
    "import matplotlib.pyplot as plt\n",
    "import seaborn as sns\n",
    "from random import randint\n",
    "import time\n",
    "import string\n",
    "import pprint\n",
    "import os\n",
    "import datetime\n",
    "\n",
    "import smtplib\n",
    "import ssl\n",
    "from email.message import EmailMessage\n",
    "\n",
    "import io\n",
    "from urllib.request import urlopen, Request\n",
    "import requests\n",
    "\n",
    "import http.client\n",
    "from http.client import IncompleteRead\n",
    "\n",
    "from selenium import webdriver\n",
    "from selenium.webdriver.common.action_chains import ActionChains\n",
    "from selenium.webdriver.support.wait import WebDriverWait\n",
    "from selenium.webdriver.chrome.service import Service as ChromeService # Similar thing for firefox also!\n",
    "import subprocess\n",
    "\n",
    "from selenium.common.exceptions import ElementNotVisibleException\n",
    "from selenium.common.exceptions import ElementNotSelectableException\n",
    "from selenium.webdriver.support import expected_conditions as EC\n",
    "from selenium.webdriver.common.by import By\n",
    "from selenium.webdriver.common.keys import Keys\n",
    "\n",
    "from webdriver_manager.chrome import ChromeDriverManager\n",
    "from selenium.webdriver.chrome.service import Service\n",
    "\n",
    "from subprocess import Popen, PIPE, STDOUT\n",
    "from subprocess import DEVNULL # py3k\n",
    "DEVNULL = open(os.devnull, 'wb')\n",
    "#from win32process import CREATE_NO_WINDOW\n",
    "\n",
    "import warnings\n",
    "warnings.filterwarnings(\"ignore\", category=DeprecationWarning)"
   ]
  },
  {
   "cell_type": "markdown",
   "metadata": {},
   "source": [
    "---------"
   ]
  },
  {
   "cell_type": "markdown",
   "metadata": {},
   "source": [
    "## All football"
   ]
  },
  {
   "cell_type": "code",
   "execution_count": null,
   "metadata": {},
   "outputs": [],
   "source": [
    "def sendMail():\n",
    "    # Define email sender and receiver\n",
    "    email_sender = 'nbetsofficial@gmail.com'\n",
    "    email_password = \"Animalnumero!\"\n",
    "    #email_receiver = ['Garridocho@gmail.com', 'aliahsan365@gmail.com', 'batrolonews@gmail.com']\n",
    "    email_receiver = ['Garridocho@gmail.com', 'batrolonews@gmail.com']\n",
    "    \n",
    "    # Set the subject and body of the email\n",
    "    subject = 'ENTRADES VILLARREAL BARCELONA A LA VENTA'\n",
    "    body = \"\"\"\n",
    "    \n",
    "    https://villarrealcf.es/venta-de-entradas/\n",
    "    \n",
    "    \n",
    "    Sóc l'script de'n Marc!\n",
    "    \n",
    "    He detectat que les entrades del partit són ja a la venta! Ojalà sigui veritat i el meu amo m'hagi programat bé.\n",
    "    \n",
    "    Pica al enllaç tet! Corre!\n",
    "    \n",
    "    https://villarrealcf.es/venta-de-entradas/\n",
    "    https://villarrealcf.es/venta-de-entradas/\n",
    "    https://villarrealcf.es/venta-de-entradas/\n",
    "    https://villarrealcf.es/venta-de-entradas/\n",
    "    https://villarrealcf.es/venta-de-entradas/\n",
    "    https://villarrealcf.es/venta-de-entradas/\n",
    "    https://villarrealcf.es/venta-de-entradas/\n",
    "    \n",
    "    \"\"\"\n",
    "\n",
    "    em = EmailMessage()\n",
    "    em['From'] = email_sender\n",
    "    em['To'] = \", \".join(email_receiver)\n",
    "    em['Subject'] = subject\n",
    "    em.set_content(body)\n",
    "\n",
    "    # Add SSL (layer of security)\n",
    "    context = ssl.create_default_context()\n",
    "\n",
    "    # Log in and send the email\n",
    "    with smtplib.SMTP_SSL('smtp.gmail.com', 465, context=context) as smtp:\n",
    "        smtp.login(email_sender, email_password)\n",
    "        smtp.sendmail(email_sender, email_receiver, em.as_string())"
   ]
  },
  {
   "cell_type": "code",
   "execution_count": null,
   "metadata": {},
   "outputs": [],
   "source": [
    "def OpenWindow(URL):\n",
    "    #options = webdriver.ChromeOptions()\n",
    "    #driver = webdriver.Chrome(ChromeDriverManager().install(), chrome_options=options)\n",
    "    \n",
    "    driver = webdriver.Chrome(service=ChromeService(ChromeDriverManager().install()))\n",
    "    print (webdriver.__version__)\n",
    "\n",
    "    return driver"
   ]
  },
  {
   "cell_type": "code",
   "execution_count": null,
   "metadata": {},
   "outputs": [],
   "source": [
    "def WatchTickets(driver):\n",
    "    isTicketsBarcelonaAvailable = False\n",
    "\n",
    "    driver.get(URL)\n",
    "\n",
    "    time.sleep(5)\n",
    "\n",
    "    ###############################\n",
    "    ## MAIN PAGE \n",
    "    ## watch for barcelona ticket\n",
    "\n",
    "    link = ''\n",
    "    while True:\n",
    "        time.sleep(1*10)\n",
    "        \n",
    "        link1 = driver.find_elements(\"xpath\",\"//div[@class='swiper-slide swiper-slide-active slide-0']\")\n",
    "        link2 = driver.find_elements(\"xpath\",\"//div[@class='swiper-slide swiper-slide-active slide-1']\")\n",
    "    \n",
    "        #print(link1[0].text)\n",
    "        #print(link2[0].text)\n",
    "        team1 = link1[0].text.split('\\n')\n",
    "        team2 = link2[0].text.split('\\n')\n",
    "        #print(team1[3])\n",
    "        if(team1[3] == \"BARCELONA\"):\n",
    "            if(team1[4] != \"PRÓXIMAMENTE\"):\n",
    "                print(\"ENTRADES A LA VENTAAAA!\")\n",
    "                sendMail()\n",
    "                return True\n",
    "        #print(team2[3])\n",
    "        if(team2[3] == \"BARCELONA\"):\n",
    "            if(team2[4] != \"PRÓXIMAMENTE\"):\n",
    "                print(\"ENTRADES A LA VENTAAAA!\")\n",
    "                sendMail()\n",
    "                return True\n",
    "\n",
    "        time.sleep(5*10)\n",
    "        \n",
    "        driver.refresh()\n",
    "\n",
    "    return isTicketsBarcelonaAvailable"
   ]
  },
  {
   "cell_type": "code",
   "execution_count": null,
   "metadata": {},
   "outputs": [],
   "source": [
    "URL = \"https://villarrealcf.es/venta-de-entradas/\" \n",
    "\n",
    "driver = OpenWindow(URL)\n",
    "\n",
    "data = WatchTickets(driver)"
   ]
  },
  {
   "cell_type": "markdown",
   "metadata": {},
   "source": [
    "--------------------"
   ]
  },
  {
   "cell_type": "markdown",
   "metadata": {},
   "source": [
    "-----"
   ]
  }
 ],
 "metadata": {
  "kernelspec": {
   "display_name": "Python 3 (ipykernel)",
   "language": "python",
   "name": "python3"
  },
  "language_info": {
   "codemirror_mode": {
    "name": "ipython",
    "version": 3
   },
   "file_extension": ".py",
   "mimetype": "text/x-python",
   "name": "python",
   "nbconvert_exporter": "python",
   "pygments_lexer": "ipython3",
   "version": "3.11.5"
  }
 },
 "nbformat": 4,
 "nbformat_minor": 4
}
