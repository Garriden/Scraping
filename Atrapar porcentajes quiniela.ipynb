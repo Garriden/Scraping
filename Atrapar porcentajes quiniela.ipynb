{
 "cells": [
  {
   "cell_type": "markdown",
   "metadata": {},
   "source": [
    "# Atrapar porcentajes quiniela"
   ]
  },
  {
   "cell_type": "code",
   "execution_count": 13,
   "metadata": {},
   "outputs": [],
   "source": [
    "import bs4 as bs\n",
    "import urllib\n",
    "import urllib.request\n",
    "import re\n",
    "import pandas as pd\n",
    "import numpy as np\n",
    "import matplotlib.pyplot as plt\n",
    "import seaborn as sns\n",
    "from random import randint\n",
    "import time\n",
    "import string\n",
    "import pprint\n",
    "\n",
    "import io\n",
    "from urllib.request import urlopen, Request\n",
    "import requests\n",
    "\n",
    "import http.client\n",
    "from http.client import IncompleteRead\n",
    "\n",
    "from selenium import webdriver\n",
    "from selenium.webdriver.common.action_chains import ActionChains\n",
    "from selenium.webdriver.support.ui import Select\n",
    "from webdriver_manager.chrome import ChromeDriverManager"
   ]
  },
  {
   "cell_type": "code",
   "execution_count": 20,
   "metadata": {},
   "outputs": [
    {
     "ename": "NameError",
     "evalue": "name 'ChromeService' is not defined",
     "output_type": "error",
     "traceback": [
      "\u001b[1;31m---------------------------------------------------------------------------\u001b[0m",
      "\u001b[1;31mNameError\u001b[0m                                 Traceback (most recent call last)",
      "\u001b[1;32m<ipython-input-20-11208e10d0e5>\u001b[0m in \u001b[0;36m<module>\u001b[1;34m\u001b[0m\n\u001b[0;32m      5\u001b[0m \u001b[1;31m#driver = webdriver.Chrome(ChromeDriverManager(version='114.0.5735.90').install())\u001b[0m\u001b[1;33m\u001b[0m\u001b[1;33m\u001b[0m\u001b[1;33m\u001b[0m\u001b[0m\n\u001b[0;32m      6\u001b[0m \u001b[1;31m#driver = webdriver.Chrome('chromedriver')\u001b[0m\u001b[1;33m\u001b[0m\u001b[1;33m\u001b[0m\u001b[1;33m\u001b[0m\u001b[0m\n\u001b[1;32m----> 7\u001b[1;33m \u001b[0mdriver\u001b[0m \u001b[1;33m=\u001b[0m \u001b[0mwebdriver\u001b[0m\u001b[1;33m.\u001b[0m\u001b[0mChrome\u001b[0m\u001b[1;33m(\u001b[0m\u001b[0mservice\u001b[0m\u001b[1;33m=\u001b[0m\u001b[0mChromeService\u001b[0m\u001b[1;33m(\u001b[0m\u001b[0mChromeDriverManager\u001b[0m\u001b[1;33m(\u001b[0m\u001b[0mversion\u001b[0m\u001b[1;33m=\u001b[0m\u001b[1;34m'114.0.5735.90'\u001b[0m\u001b[1;33m)\u001b[0m\u001b[1;33m.\u001b[0m\u001b[0minstall\u001b[0m\u001b[1;33m(\u001b[0m\u001b[1;33m)\u001b[0m\u001b[1;33m)\u001b[0m\u001b[1;33m)\u001b[0m\u001b[1;33m\u001b[0m\u001b[1;33m\u001b[0m\u001b[0m\n\u001b[0m\u001b[0;32m      8\u001b[0m \u001b[1;33m\u001b[0m\u001b[0m\n\u001b[0;32m      9\u001b[0m \u001b[0mprint\u001b[0m\u001b[1;33m(\u001b[0m\u001b[0mdriver\u001b[0m\u001b[1;33m)\u001b[0m\u001b[1;33m\u001b[0m\u001b[1;33m\u001b[0m\u001b[0m\n",
      "\u001b[1;31mNameError\u001b[0m: name 'ChromeService' is not defined"
     ]
    }
   ],
   "source": [
    "#URL = \"https://www.betexplorer.com/soccer/spain/laliga2-2020-2021/results/\"\n",
    "URL = \"https://www.eduardolosilla.es/quiniela/ayudas/porcentajes\"\n",
    "\n",
    "# download chromedriver last verion and put in this folder\n",
    "#driver = webdriver.Chrome(ChromeDriverManager(version='114.0.5735.90').install())\n",
    "#driver = webdriver.Chrome('chromedriver')\n",
    "driver = webdriver.Chrome(service=ChromeService(ChromeDriverManager(version='114.0.5735.90').install()))\n",
    "\n",
    "print(driver)\n",
    "\n",
    "driver.get(URL)\n",
    "\n",
    "firstTime = True\n",
    "\n",
    "jornada = -1\n",
    "# for every \"jornada\"\n",
    "while jornada < 58:\n",
    "    jornada += 1\n",
    "    \n",
    "    # Click on the \"jornada\" tab\n",
    "    select = Select(driver.find_element_by_id('u-hidden-scrollbar'))\n",
    "    # select by visible text\n",
    "    # select.select_by_visible_text('Banana')\n",
    "    # select by value \n",
    "    select.select_by_value(str(jornada) )\n",
    "    \n",
    "    time.sleep(randint(5,10))  \n",
    "    \n",
    "    cajas = driver.find_elements_by_xpath(\"//div[@class='c-caja_base m-no-fixed-size']\")\n",
    "    for caja in cajas:\n",
    "        cajaTable = caja.text.split('\\n')\n",
    "        #print(caja.text)\n",
    "        #print(cajaTable)\n",
    "\n",
    "        ii = 0\n",
    "        while(ii < (5*14)):\n",
    "            \n",
    "            line_ = cajaTable[ii]\n",
    "            #print(line_)\n",
    "            saux = (cajaTable[ii+1]).split(' - ')\n",
    "            localTeamName_ = saux[0]\n",
    "            awayTeamName_ = saux[1]\n",
    "            print(localTeamName_)\n",
    "            print(awayTeamName_)\n",
    "            \n",
    "            df = pd.DataFrame(columns=['Season', 'Jornada', 'Line', 'awayTeamName', 'localTeamName'])\n",
    "            \n",
    "            df[\"Season\"] = \"2021/22\"\n",
    "            df[\"Jornada\"] = jornada\n",
    "            df[\"Line\"] = line_\n",
    "            df[\"awayTeamName\"] = awayTeamName_\n",
    "            df[\"localTeamName\"] = localTeamName_\n",
    "            \n",
    "            if not firstTime:\n",
    "                df_ant = pd.concat([df, df_ant], ignore_index=True)\n",
    "            else: \n",
    "                df_ant = df\n",
    "                firstTime = False\n",
    "            \n",
    "            ii += 5\n",
    "            print(df_ant)\n",
    "    #print(df_ant)"
   ]
  },
  {
   "cell_type": "code",
   "execution_count": 21,
   "metadata": {},
   "outputs": [
    {
     "data": {
      "text/html": [
       "<div>\n",
       "<style scoped>\n",
       "    .dataframe tbody tr th:only-of-type {\n",
       "        vertical-align: middle;\n",
       "    }\n",
       "\n",
       "    .dataframe tbody tr th {\n",
       "        vertical-align: top;\n",
       "    }\n",
       "\n",
       "    .dataframe thead th {\n",
       "        text-align: right;\n",
       "    }\n",
       "</style>\n",
       "<table border=\"1\" class=\"dataframe\">\n",
       "  <thead>\n",
       "    <tr style=\"text-align: right;\">\n",
       "      <th></th>\n",
       "      <th>Season</th>\n",
       "      <th>Jornada</th>\n",
       "      <th>Line</th>\n",
       "      <th>awayTeamName</th>\n",
       "      <th>localTeamName</th>\n",
       "    </tr>\n",
       "  </thead>\n",
       "  <tbody>\n",
       "  </tbody>\n",
       "</table>\n",
       "</div>"
      ],
      "text/plain": [
       "Empty DataFrame\n",
       "Columns: [Season, Jornada, Line, awayTeamName, localTeamName]\n",
       "Index: []"
      ]
     },
     "execution_count": 21,
     "metadata": {},
     "output_type": "execute_result"
    }
   ],
   "source": [
    "df"
   ]
  },
  {
   "cell_type": "code",
   "execution_count": null,
   "metadata": {},
   "outputs": [],
   "source": []
  }
 ],
 "metadata": {
  "kernelspec": {
   "display_name": "Python 3",
   "language": "python",
   "name": "python3"
  },
  "language_info": {
   "codemirror_mode": {
    "name": "ipython",
    "version": 3
   },
   "file_extension": ".py",
   "mimetype": "text/x-python",
   "name": "python",
   "nbconvert_exporter": "python",
   "pygments_lexer": "ipython3",
   "version": "3.6.12"
  }
 },
 "nbformat": 4,
 "nbformat_minor": 4
}
